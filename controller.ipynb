{
 "cells": [
  {
   "cell_type": "code",
   "execution_count": null,
   "metadata": {},
   "outputs": [],
   "source": [
    "from main import DataLoader, MyHyperModel, NelderMeadHyperModel, TunerWrapper, PlotResults\n",
    "\n",
    "if __name__ == \"__main__\":\n",
    "    data_loader = DataLoader()\n",
    "    x_train, y_train, x_test, y_test = data_loader.load_data()\n",
    "\n",
    "    # Choose the algorithms you want to run by uncommenting the corresponding lines\n",
    "    # algorithms = [\"grid_search\", \"random_search\", \"nelder_mead\"]\n",
    "    algorithms = [\"grid_search\"]\n",
    "\n",
    "    results = {}\n",
    "\n",
    "    for algorithm in algorithms:\n",
    "        print(f\"Running {algorithm}...\")\n",
    "        \n",
    "        if algorithm == \"nelder_mead\":\n",
    "            hypermodel = NelderMeadHyperModel(num_classes=10)\n",
    "        else:\n",
    "            hypermodel = MyHyperModel(num_classes=10)\n",
    "        \n",
    "        tuner_wrapper = TunerWrapper(\n",
    "            hypermodel=hypermodel,\n",
    "            objective=\"val_loss\",\n",
    "            max_trials=30,\n",
    "            executions_per_trial=3,\n",
    "            seed=42,\n",
    "            algorithm=algorithm\n",
    "        )\n",
    "\n",
    "        best_model, history = tuner_wrapper.run_tuner(x_train, y_train)\n",
    "        results[algorithm] = history.history\n",
    "\n",
    "    # Plot the results\n",
    "    plotter = PlotResults(results)\n",
    "    plotter.plot_loss()\n",
    "    plotter.plot_accuracy()"
   ]
  }
 ],
 "metadata": {
  "language_info": {
   "name": "python"
  },
  "orig_nbformat": 4
 },
 "nbformat": 4,
 "nbformat_minor": 2
}
