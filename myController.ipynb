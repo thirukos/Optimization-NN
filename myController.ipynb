{
 "cells": [
  {
   "cell_type": "code",
   "execution_count": 2,
   "metadata": {},
   "outputs": [
    {
     "name": "stdout",
     "output_type": "stream",
     "text": [
      "hello\n"
     ]
    }
   ],
   "source": [
    "print(\"hello\")"
   ]
  },
  {
   "cell_type": "code",
   "execution_count": 3,
   "metadata": {},
   "outputs": [
    {
     "name": "stdout",
     "output_type": "stream",
     "text": [
      "Running random_search...\n"
     ]
    },
    {
     "ename": "TypeError",
     "evalue": "TunerWrapper.random_search() takes 2 positional arguments but 4 were given",
     "output_type": "error",
     "traceback": [
      "\u001b[0;31m---------------------------------------------------------------------------\u001b[0m",
      "\u001b[0;31mTypeError\u001b[0m                                 Traceback (most recent call last)",
      "Cell \u001b[0;32mIn[3], line 25\u001b[0m\n\u001b[1;32m     23\u001b[0m     best_model, history \u001b[39m=\u001b[39m tuner_wrapper\u001b[39m.\u001b[39mgrid_search(hypermodel, \u001b[39m\"\u001b[39m\u001b[39mtrail#1_1000/grid\u001b[39m\u001b[39m\"\u001b[39m, \u001b[39m\"\u001b[39m\u001b[39mtrail1000\u001b[39m\u001b[39m\"\u001b[39m)\n\u001b[1;32m     24\u001b[0m \u001b[39melif\u001b[39;00m algorithm \u001b[39m==\u001b[39m \u001b[39m\"\u001b[39m\u001b[39mrandom_search\u001b[39m\u001b[39m\"\u001b[39m:\n\u001b[0;32m---> 25\u001b[0m     best_model, history \u001b[39m=\u001b[39m tuner_wrapper\u001b[39m.\u001b[39;49mrandom_search(hypermodel, \u001b[39m\"\u001b[39;49m\u001b[39mtrail#1_1000\u001b[39;49m\u001b[39m\"\u001b[39;49m, \u001b[39m\"\u001b[39;49m\u001b[39mrandom\u001b[39;49m\u001b[39m\"\u001b[39;49m)\n\u001b[1;32m     26\u001b[0m \u001b[39melif\u001b[39;00m algorithm \u001b[39m==\u001b[39m \u001b[39m\"\u001b[39m\u001b[39mnelder_mead\u001b[39m\u001b[39m\"\u001b[39m:\n\u001b[1;32m     27\u001b[0m     best_model, history \u001b[39m=\u001b[39m tuner_wrapper\u001b[39m.\u001b[39mnelder_mead_search(hypermodel)\n",
      "\u001b[0;31mTypeError\u001b[0m: TunerWrapper.random_search() takes 2 positional arguments but 4 were given"
     ]
    }
   ],
   "source": [
    "from myMain import DataLoader, MyHyperModel, NelderMeadHyperModel, TunerWrapper, PlotResults\n",
    "\n",
    "if __name__ == \"__main__\":\n",
    "    data_loader = DataLoader(n=1000)\n",
    "    x_train, y_train, x_test, y_test = data_loader.load_data()\n",
    "\n",
    "    # algorithms = [\"grid_search\", \"random_search\", \"nelder_mead\"]\n",
    "    algorithms = [\"random_search\"]\n",
    "\n",
    "    results = {}\n",
    "\n",
    "    for algorithm in algorithms:\n",
    "        print(f\"Running {algorithm}...\")\n",
    "\n",
    "        if algorithm == \"nelder_mead\":\n",
    "            hypermodel = NelderMeadHyperModel(num_classes=10)\n",
    "        else:\n",
    "            hypermodel = MyHyperModel(num_classes=10)\n",
    "\n",
    "        tuner_wrapper = TunerWrapper(x_train, y_train, x_test, y_test)\n",
    "\n",
    "        if algorithm == \"grid_search\":\n",
    "            best_model, history = tuner_wrapper.grid_search(hypermodel, \"trail#1_1000/grid\", \"trail1000\")\n",
    "        elif algorithm == \"random_search\":\n",
    "            best_model, history = tuner_wrapper.random_search(hypermodel, \"trail#1_1000\", \"random\")\n",
    "        elif algorithm == \"nelder_mead\":\n",
    "            best_model, history = tuner_wrapper.nelder_mead_search(hypermodel)\n",
    "\n",
    "        results[algorithm] = history.history\n",
    "\n",
    "    # Plot the results\n",
    "    myplot = PlotResults(results)\n",
    "    myplot.plot_loss()\n",
    "    myplot.plot_accuracy()"
   ]
  }
 ],
 "metadata": {
  "kernelspec": {
   "display_name": "Python 3 (ipykernel)",
   "language": "python",
   "name": "python3"
  },
  "language_info": {
   "codemirror_mode": {
    "name": "ipython",
    "version": 3
   },
   "file_extension": ".py",
   "mimetype": "text/x-python",
   "name": "python",
   "nbconvert_exporter": "python",
   "pygments_lexer": "ipython3",
   "version": "3.10.10"
  },
  "orig_nbformat": 4
 },
 "nbformat": 4,
 "nbformat_minor": 2
}
