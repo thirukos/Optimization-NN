{
 "cells": [
  {
   "cell_type": "code",
   "execution_count": 1,
   "metadata": {},
   "outputs": [
    {
     "name": "stdout",
     "output_type": "stream",
     "text": [
      "Trial 30 Complete [00h 00m 12s]\n",
      "val_loss: 0.10233718156814575\n",
      "\n",
      "Best val_loss So Far: 0.08915809293588002\n",
      "Total elapsed time: 00h 05m 44s\n",
      "INFO:tensorflow:Oracle triggered exit\n"
     ]
    },
    {
     "name": "stdout",
     "output_type": "stream",
     "text": [
      "Best hyperparameters:\n",
      "{'space': [{'class_name': 'Float', 'config': {'name': 'dropout_rate', 'default': 0.1, 'conditions': [], 'min_value': 0.1, 'max_value': 0.5, 'step': 0.1, 'sampling': 'linear'}}, {'class_name': 'Choice', 'config': {'name': 'learning_rate', 'default': 0.01, 'conditions': [], 'values': [0.01, 0.001, 0.0001], 'ordered': True}}, {'class_name': 'Choice', 'config': {'name': 'optimizer', 'default': 'adam', 'conditions': [], 'values': ['adam', 'sgd'], 'ordered': False}}, {'class_name': 'Int', 'config': {'name': 'batch_size', 'default': None, 'conditions': [], 'min_value': 32, 'max_value': 256, 'step': 32, 'sampling': 'linear'}}, {'class_name': 'Choice', 'config': {'name': 'beta1', 'default': 0.5, 'conditions': [], 'values': [0.5, 0.75, 0.999], 'ordered': True}}, {'class_name': 'Choice', 'config': {'name': 'beta2', 'default': 0.5, 'conditions': [], 'values': [0.5, 0.75, 0.999], 'ordered': True}}], 'values': {'dropout_rate': 0.1, 'learning_rate': 0.01, 'optimizer': 'adam', 'batch_size': 128, 'beta1': 0.5, 'beta2': 0.75}}\n",
      "Epoch 1/5\n",
      "71/71 [==============================] - 1s 7ms/step - loss: 0.4548 - accuracy: 0.8542 - val_loss: 0.1484 - val_accuracy: 0.9540\n",
      "Epoch 2/5\n",
      "71/71 [==============================] - 0s 4ms/step - loss: 0.1047 - accuracy: 0.9683 - val_loss: 0.0824 - val_accuracy: 0.9800\n",
      "Epoch 3/5\n",
      "71/71 [==============================] - 0s 3ms/step - loss: 0.0703 - accuracy: 0.9781 - val_loss: 0.0806 - val_accuracy: 0.9740\n",
      "Epoch 4/5\n",
      "71/71 [==============================] - 0s 6ms/step - loss: 0.0502 - accuracy: 0.9842 - val_loss: 0.0926 - val_accuracy: 0.9760\n",
      "Epoch 5/5\n",
      "71/71 [==============================] - 0s 5ms/step - loss: 0.0391 - accuracy: 0.9881 - val_loss: 0.0816 - val_accuracy: 0.9800\n",
      "313/313 [==============================] - 1s 2ms/step - loss: 0.0763 - accuracy: 0.9787\n",
      "Test loss: 0.07629995048046112\n",
      "Test accuracy: 0.9786999821662903\n",
      "Best hyperparameters:  {'space': [{'class_name': 'Float', 'config': {'name': 'dropout_rate', 'default': 0.1, 'conditions': [], 'min_value': 0.1, 'max_value': 0.5, 'step': 0.1, 'sampling': 'linear'}}, {'class_name': 'Choice', 'config': {'name': 'learning_rate', 'default': 0.01, 'conditions': [], 'values': [0.01, 0.001, 0.0001], 'ordered': True}}, {'class_name': 'Choice', 'config': {'name': 'optimizer', 'default': 'adam', 'conditions': [], 'values': ['adam', 'sgd'], 'ordered': False}}, {'class_name': 'Int', 'config': {'name': 'batch_size', 'default': None, 'conditions': [], 'min_value': 32, 'max_value': 256, 'step': 32, 'sampling': 'linear'}}, {'class_name': 'Choice', 'config': {'name': 'beta1', 'default': 0.5, 'conditions': [], 'values': [0.5, 0.75, 0.999], 'ordered': True}}, {'class_name': 'Choice', 'config': {'name': 'beta2', 'default': 0.5, 'conditions': [], 'values': [0.5, 0.75, 0.999], 'ordered': True}}], 'values': {'dropout_rate': 0.1, 'learning_rate': 0.01, 'optimizer': 'adam', 'batch_size': 128, 'beta1': 0.5, 'beta2': 0.75}}\n"
     ]
    },
    {
     "ename": "TypeError",
     "evalue": "string indices must be integers",
     "output_type": "error",
     "traceback": [
      "\u001b[0;31m---------------------------------------------------------------------------\u001b[0m",
      "\u001b[0;31mTypeError\u001b[0m                                 Traceback (most recent call last)",
      "Cell \u001b[0;32mIn[1], line 37\u001b[0m\n\u001b[1;32m     35\u001b[0m \u001b[39m# Plot the results\u001b[39;00m\n\u001b[1;32m     36\u001b[0m myplot \u001b[39m=\u001b[39m PlotResults(results)\n\u001b[0;32m---> 37\u001b[0m myplot\u001b[39m.\u001b[39;49mplot_loss_epoch()\n\u001b[1;32m     38\u001b[0m myplot\u001b[39m.\u001b[39mplot_accuracy_epoch()\n\u001b[1;32m     39\u001b[0m myplot\u001b[39m.\u001b[39mplot_loss_trials()\n",
      "File \u001b[0;32m~/Downloads/Optimization-NN/myMain.py:280\u001b[0m, in \u001b[0;36mPlotResults.plot_loss_epoch\u001b[0;34m(self)\u001b[0m\n\u001b[1;32m    278\u001b[0m     \u001b[39mfor\u001b[39;00m i, result \u001b[39min\u001b[39;00m \u001b[39menumerate\u001b[39m(histories):\n\u001b[1;32m    279\u001b[0m         \u001b[39mif\u001b[39;00m i \u001b[39m==\u001b[39m \u001b[39m0\u001b[39m:\n\u001b[0;32m--> 280\u001b[0m             plt\u001b[39m.\u001b[39mplot(result[\u001b[39mf\u001b[39;49m\u001b[39m\"\u001b[39;49m\u001b[39m{\u001b[39;49;00malgorithm\u001b[39m}\u001b[39;49;00m\u001b[39m\"\u001b[39;49m][\u001b[39m\"\u001b[39m\u001b[39mloss\u001b[39m\u001b[39m\"\u001b[39m], label\u001b[39m=\u001b[39m\u001b[39mf\u001b[39m\u001b[39m\"\u001b[39m\u001b[39m{\u001b[39;00malgorithm\u001b[39m}\u001b[39;00m\u001b[39m Training loss\u001b[39m\u001b[39m\"\u001b[39m)\n\u001b[1;32m    281\u001b[0m             plt\u001b[39m.\u001b[39mplot(result[\u001b[39mf\u001b[39m\u001b[39m\"\u001b[39m\u001b[39m{\u001b[39;00malgorithm\u001b[39m}\u001b[39;00m\u001b[39m\"\u001b[39m][\u001b[39m\"\u001b[39m\u001b[39mval_loss\u001b[39m\u001b[39m\"\u001b[39m], label\u001b[39m=\u001b[39m\u001b[39mf\u001b[39m\u001b[39m\"\u001b[39m\u001b[39m{\u001b[39;00malgorithm\u001b[39m}\u001b[39;00m\u001b[39m Validation loss\u001b[39m\u001b[39m\"\u001b[39m)\n\u001b[1;32m    282\u001b[0m plt\u001b[39m.\u001b[39mxlabel(\u001b[39m\"\u001b[39m\u001b[39mEpochs\u001b[39m\u001b[39m\"\u001b[39m)\n",
      "\u001b[0;31mTypeError\u001b[0m: string indices must be integers"
     ]
    },
    {
     "data": {
      "text/plain": [
       "<Figure size 1000x500 with 0 Axes>"
      ]
     },
     "metadata": {},
     "output_type": "display_data"
    }
   ],
   "source": [
    "from myMain import DataLoader, MyHyperModel, NelderMeadHyperModel, TunerWrapper, PlotResults\n",
    "\n",
    "if __name__ == \"__main__\":\n",
    "    data_loader = DataLoader(n=10000)\n",
    "    x_train, y_train, x_test, y_test = data_loader.load_data()\n",
    "\n",
    "    # algorithms = [\"grid_search\", \"random_search\", \"nelder_mead\"]\n",
    "    algorithms = [\"grid_search\"]\n",
    "    results = {}\n",
    "    results_trail = {}\n",
    "\n",
    "    for algorithm in algorithms:\n",
    "        print(f\"Running {algorithm}...\")\n",
    "\n",
    "        if algorithm == \"nelder_mead\":\n",
    "            hypermodel = NelderMeadHyperModel(num_classes=10)\n",
    "        else:\n",
    "            hypermodel = MyHyperModel(num_classes=10)\n",
    "\n",
    "        tuner_wrapper = TunerWrapper(x_train, y_train, x_test, y_test)\n",
    "\n",
    "        if algorithm == \"grid_search\":\n",
    "            best_model, histories, histories_trail, best_parameters = tuner_wrapper.grid_search(hypermodel, \"trail#2_10000\", \"grid\")\n",
    "        elif algorithm == \"random_search\":\n",
    "            best_model, histories, histories_trail, best_parameters = tuner_wrapper.random_search(hypermodel, \"trail#2_10000\", \"random\")\n",
    "        elif algorithm == \"nelder_mead\":\n",
    "            best_model, histories, histories_trail, best_parameters = tuner_wrapper.nelder_mead_search(hypermodel)\n",
    "\n",
    "        results_trail[algorithm] = histories_trail\n",
    "        results[algorithm] = histories.history\n",
    "\n",
    "    if isinstance(best_parameters, dict):\n",
    "        print(\"Best hyperparameters: \", best_parameters)\n",
    "    else:\n",
    "        print(\"Best hyperparameters: \", best_parameters.get_config())\n",
    "\n",
    "    # Plot the results\n",
    "    myplot = PlotResults(results, results_trail)\n",
    "    myplot.plot_loss_epoch()\n",
    "    myplot.plot_accuracy_epoch()\n",
    "    myplot.plot_loss_trials()\n",
    "    myplot.plot_accuracy_trials()"
   ]
  },
  {
   "cell_type": "code",
   "execution_count": null,
   "metadata": {},
   "outputs": [],
   "source": [
    "from myMain import DataLoader, MyHyperModel, NelderMeadHyperModel, TunerWrapper, PlotResults\n",
    "\n",
    "if __name__ == \"__main__\":\n",
    "    data_loader = DataLoader(n=10000)\n",
    "    x_train, y_train, x_test, y_test = data_loader.load_data()\n",
    "\n",
    "    # algorithms = [\"grid_search\", \"random_search\", \"nelder_mead\"]\n",
    "    algorithms = [\"random_search\"]\n",
    "    results = {}\n",
    "\n",
    "    for algorithm in algorithms:\n",
    "        print(f\"Running {algorithm}...\")\n",
    "\n",
    "        if algorithm == \"nelder_mead\":\n",
    "            hypermodel = NelderMeadHyperModel(num_classes=10)\n",
    "        else:\n",
    "            hypermodel = MyHyperModel(num_classes=10)\n",
    "\n",
    "        tuner_wrapper = TunerWrapper(x_train, y_train, x_test, y_test)\n",
    "\n",
    "        if algorithm == \"grid_search\":\n",
    "            best_model, histories, best_parameters = tuner_wrapper.grid_search(hypermodel, \"trail#2_10000\", \"grid\")\n",
    "        elif algorithm == \"random_search\":\n",
    "            best_model, histories, best_parameters = tuner_wrapper.random_search(hypermodel, \"trail#2_10000\", \"random\")\n",
    "        elif algorithm == \"nelder_mead\":\n",
    "            best_model, histories, best_parameters = tuner_wrapper.nelder_mead_search(hypermodel)\n",
    "\n",
    "        results[algorithm] = histories\n",
    "\n",
    "    if isinstance(best_parameters, dict):\n",
    "        print(\"Best hyperparameters: \", best_parameters)\n",
    "    else:\n",
    "        print(\"Best hyperparameters: \", best_parameters.get_config())\n",
    "\n",
    "    # Plot the results\n",
    "    myplot = PlotResults(results)\n",
    "    myplot.plot_loss_epoch()\n",
    "    myplot.plot_accuracy_epoch()\n",
    "    myplot.plot_loss_trials()\n",
    "    myplot.plot_accuracy_trials()"
   ]
  },
  {
   "cell_type": "code",
   "execution_count": null,
   "metadata": {},
   "outputs": [],
   "source": [
    "from myMain import DataLoader, MyHyperModel, NelderMeadHyperModel, TunerWrapper, PlotResults\n",
    "\n",
    "if __name__ == \"__main__\":\n",
    "    data_loader = DataLoader(n=60000)\n",
    "    x_train, y_train, x_test, y_test = data_loader.load_data()\n",
    "\n",
    "    # algorithms = [\"grid_search\", \"random_search\", \"nelder_mead\"]\n",
    "    algorithms = [\"nelder_mead\"]\n",
    "\n",
    "    results = {}\n",
    "\n",
    "    for algorithm in algorithms:\n",
    "        print(f\"Running {algorithm}...\")\n",
    "\n",
    "        if algorithm == \"nelder_mead\":\n",
    "            hypermodel = NelderMeadHyperModel(num_classes=10)\n",
    "        else:\n",
    "            hypermodel = MyHyperModel(num_classes=10)\n",
    "\n",
    "        tuner_wrapper = TunerWrapper(x_train, y_train, x_test, y_test)\n",
    "\n",
    "        if algorithm == \"grid_search\":\n",
    "            best_model, history, best_parameters = tuner_wrapper.grid_search(hypermodel, \"final_fullData\", \"grid\")\n",
    "        elif algorithm == \"random_search\":\n",
    "            best_model, history, best_parameters = tuner_wrapper.random_search(hypermodel, \"final_fullData\", \"random\")\n",
    "        elif algorithm == \"nelder_mead\":\n",
    "            best_model, history, best_parameters = tuner_wrapper.nelder_mead_search(hypermodel)\n",
    "\n",
    "        results[algorithm] = history.history\n",
    "    \n",
    "    print(\"Best hyperparameters: \", best_parameters.get_config())\n",
    "\n",
    "    # Plot the results\n",
    "    myplot = PlotResults(results)\n",
    "    myplot.plot_loss()\n",
    "    myplot.plot_accuracy()"
   ]
  }
 ],
 "metadata": {
  "kernelspec": {
   "display_name": "Python 3 (ipykernel)",
   "language": "python",
   "name": "python3"
  },
  "language_info": {
   "codemirror_mode": {
    "name": "ipython",
    "version": 3
   },
   "file_extension": ".py",
   "mimetype": "text/x-python",
   "name": "python",
   "nbconvert_exporter": "python",
   "pygments_lexer": "ipython3",
   "version": "3.10.10"
  },
  "orig_nbformat": 4
 },
 "nbformat": 4,
 "nbformat_minor": 2
}
